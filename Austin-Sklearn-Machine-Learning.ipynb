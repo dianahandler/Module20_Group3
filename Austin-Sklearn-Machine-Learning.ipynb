{
 "cells": [
  {
   "cell_type": "code",
   "execution_count": 1,
   "id": "3d2ec159",
   "metadata": {},
   "outputs": [],
   "source": [
    "import pandas as pd\n",
    "import matplotlib.pyplot as plt\n",
    "from sklearn.linear_model import LinearRegression"
   ]
  },
  {
   "cell_type": "code",
   "execution_count": 2,
   "id": "a5c93c23",
   "metadata": {},
   "outputs": [],
   "source": [
    "## We will use machine learning via Sklean to perform linear regression analysis.\n",
    "## First, we'll import our cleaned data.\n",
    "austin_change = 'https://raw.githubusercontent.com/dianahandler/Final_Module20_Group3/main/autinHousingData_cleaned_citynamechanged.csv'\n",
    "austin_no_change = 'https://raw.githubusercontent.com/dianahandler/Final_Module20_Group3/main/autinHousingData_cleaned_nochangecity.csv'\n",
    "df_ac = pd.read_csv(austin_change)\n",
    "df_nc = pd.read_csv(austin_no_change)"
   ]
  },
  {
   "cell_type": "code",
   "execution_count": 3,
   "id": "85ba31f4",
   "metadata": {
    "scrolled": true
   },
   "outputs": [
    {
     "data": {
      "text/html": [
       "<div>\n",
       "<style scoped>\n",
       "    .dataframe tbody tr th:only-of-type {\n",
       "        vertical-align: middle;\n",
       "    }\n",
       "\n",
       "    .dataframe tbody tr th {\n",
       "        vertical-align: top;\n",
       "    }\n",
       "\n",
       "    .dataframe thead th {\n",
       "        text-align: right;\n",
       "    }\n",
       "</style>\n",
       "<table border=\"1\" class=\"dataframe\">\n",
       "  <thead>\n",
       "    <tr style=\"text-align: right;\">\n",
       "      <th></th>\n",
       "      <th>zpid</th>\n",
       "      <th>city</th>\n",
       "      <th>streetAddress</th>\n",
       "      <th>zipcode</th>\n",
       "      <th>description</th>\n",
       "      <th>latitude</th>\n",
       "      <th>longitude</th>\n",
       "      <th>propertyTaxRate</th>\n",
       "      <th>garageSpaces</th>\n",
       "      <th>hasAssociation</th>\n",
       "      <th>...</th>\n",
       "      <th>avgSchoolRating</th>\n",
       "      <th>avgSchoolSize</th>\n",
       "      <th>MedianStudentsPerTeacher</th>\n",
       "      <th>numOfBathrooms</th>\n",
       "      <th>numOfBedrooms</th>\n",
       "      <th>numOfStories</th>\n",
       "      <th>homeImage</th>\n",
       "      <th>zip_rank</th>\n",
       "      <th>median_zip</th>\n",
       "      <th>pr_sqft</th>\n",
       "    </tr>\n",
       "  </thead>\n",
       "  <tbody>\n",
       "    <tr>\n",
       "      <th>0</th>\n",
       "      <td>111373431</td>\n",
       "      <td>austin</td>\n",
       "      <td>14424 Lake Victor Dr</td>\n",
       "      <td>78660</td>\n",
       "      <td>14424 Lake Victor Dr, Pflugerville, TX 78660 i...</td>\n",
       "      <td>30.430632</td>\n",
       "      <td>-97.663078</td>\n",
       "      <td>1.98</td>\n",
       "      <td>2</td>\n",
       "      <td>1</td>\n",
       "      <td>...</td>\n",
       "      <td>2.666667</td>\n",
       "      <td>1063</td>\n",
       "      <td>14</td>\n",
       "      <td>3.0</td>\n",
       "      <td>4</td>\n",
       "      <td>2</td>\n",
       "      <td>111373431_ffce26843283d3365c11d81b8e6bdc6f-p_f...</td>\n",
       "      <td>8</td>\n",
       "      <td>289500.0</td>\n",
       "      <td>117.0</td>\n",
       "    </tr>\n",
       "    <tr>\n",
       "      <th>1</th>\n",
       "      <td>120900430</td>\n",
       "      <td>austin</td>\n",
       "      <td>1104 Strickling Dr</td>\n",
       "      <td>78660</td>\n",
       "      <td>Absolutely GORGEOUS 4 Bedroom home with 2 full...</td>\n",
       "      <td>30.432673</td>\n",
       "      <td>-97.661697</td>\n",
       "      <td>1.98</td>\n",
       "      <td>2</td>\n",
       "      <td>1</td>\n",
       "      <td>...</td>\n",
       "      <td>2.666667</td>\n",
       "      <td>1063</td>\n",
       "      <td>14</td>\n",
       "      <td>2.0</td>\n",
       "      <td>4</td>\n",
       "      <td>1</td>\n",
       "      <td>120900430_8255c127be8dcf0a1a18b7563d987088-p_f...</td>\n",
       "      <td>8</td>\n",
       "      <td>289500.0</td>\n",
       "      <td>167.0</td>\n",
       "    </tr>\n",
       "    <tr>\n",
       "      <th>2</th>\n",
       "      <td>2084491383</td>\n",
       "      <td>austin</td>\n",
       "      <td>1408 Fort Dessau Rd</td>\n",
       "      <td>78660</td>\n",
       "      <td>Under construction - estimated completion in A...</td>\n",
       "      <td>30.409748</td>\n",
       "      <td>-97.639771</td>\n",
       "      <td>1.98</td>\n",
       "      <td>0</td>\n",
       "      <td>1</td>\n",
       "      <td>...</td>\n",
       "      <td>3.000000</td>\n",
       "      <td>1108</td>\n",
       "      <td>14</td>\n",
       "      <td>2.0</td>\n",
       "      <td>3</td>\n",
       "      <td>1</td>\n",
       "      <td>2084491383_a2ad649e1a7a098111dcea084a11c855-p_...</td>\n",
       "      <td>8</td>\n",
       "      <td>289500.0</td>\n",
       "      <td>173.0</td>\n",
       "    </tr>\n",
       "    <tr>\n",
       "      <th>3</th>\n",
       "      <td>120901374</td>\n",
       "      <td>austin</td>\n",
       "      <td>1025 Strickling Dr</td>\n",
       "      <td>78660</td>\n",
       "      <td>Absolutely darling one story home in charming ...</td>\n",
       "      <td>30.432112</td>\n",
       "      <td>-97.661659</td>\n",
       "      <td>1.98</td>\n",
       "      <td>2</td>\n",
       "      <td>1</td>\n",
       "      <td>...</td>\n",
       "      <td>2.666667</td>\n",
       "      <td>1063</td>\n",
       "      <td>14</td>\n",
       "      <td>2.0</td>\n",
       "      <td>3</td>\n",
       "      <td>1</td>\n",
       "      <td>120901374_b469367a619da85b1f5ceb69b675d88e-p_f...</td>\n",
       "      <td>8</td>\n",
       "      <td>289500.0</td>\n",
       "      <td>143.0</td>\n",
       "    </tr>\n",
       "    <tr>\n",
       "      <th>4</th>\n",
       "      <td>60134862</td>\n",
       "      <td>austin</td>\n",
       "      <td>15005 Donna Jane Loop</td>\n",
       "      <td>78660</td>\n",
       "      <td>Brimming with appeal &amp; warm livability! Sleek ...</td>\n",
       "      <td>30.437368</td>\n",
       "      <td>-97.656860</td>\n",
       "      <td>1.98</td>\n",
       "      <td>0</td>\n",
       "      <td>1</td>\n",
       "      <td>...</td>\n",
       "      <td>4.000000</td>\n",
       "      <td>1223</td>\n",
       "      <td>14</td>\n",
       "      <td>3.0</td>\n",
       "      <td>3</td>\n",
       "      <td>2</td>\n",
       "      <td>60134862_b1a48a3df3f111e005bb913873e98ce2-p_f.jpg</td>\n",
       "      <td>8</td>\n",
       "      <td>289500.0</td>\n",
       "      <td>113.0</td>\n",
       "    </tr>\n",
       "  </tbody>\n",
       "</table>\n",
       "<p>5 rows × 50 columns</p>\n",
       "</div>"
      ],
      "text/plain": [
       "         zpid    city          streetAddress  zipcode  \\\n",
       "0   111373431  austin   14424 Lake Victor Dr    78660   \n",
       "1   120900430  austin     1104 Strickling Dr    78660   \n",
       "2  2084491383  austin    1408 Fort Dessau Rd    78660   \n",
       "3   120901374  austin     1025 Strickling Dr    78660   \n",
       "4    60134862  austin  15005 Donna Jane Loop    78660   \n",
       "\n",
       "                                         description   latitude  longitude  \\\n",
       "0  14424 Lake Victor Dr, Pflugerville, TX 78660 i...  30.430632 -97.663078   \n",
       "1  Absolutely GORGEOUS 4 Bedroom home with 2 full...  30.432673 -97.661697   \n",
       "2  Under construction - estimated completion in A...  30.409748 -97.639771   \n",
       "3  Absolutely darling one story home in charming ...  30.432112 -97.661659   \n",
       "4  Brimming with appeal & warm livability! Sleek ...  30.437368 -97.656860   \n",
       "\n",
       "   propertyTaxRate  garageSpaces  hasAssociation  ...  avgSchoolRating  \\\n",
       "0             1.98             2               1  ...         2.666667   \n",
       "1             1.98             2               1  ...         2.666667   \n",
       "2             1.98             0               1  ...         3.000000   \n",
       "3             1.98             2               1  ...         2.666667   \n",
       "4             1.98             0               1  ...         4.000000   \n",
       "\n",
       "   avgSchoolSize  MedianStudentsPerTeacher  numOfBathrooms  numOfBedrooms  \\\n",
       "0           1063                        14             3.0              4   \n",
       "1           1063                        14             2.0              4   \n",
       "2           1108                        14             2.0              3   \n",
       "3           1063                        14             2.0              3   \n",
       "4           1223                        14             3.0              3   \n",
       "\n",
       "  numOfStories                                          homeImage  zip_rank  \\\n",
       "0            2  111373431_ffce26843283d3365c11d81b8e6bdc6f-p_f...         8   \n",
       "1            1  120900430_8255c127be8dcf0a1a18b7563d987088-p_f...         8   \n",
       "2            1  2084491383_a2ad649e1a7a098111dcea084a11c855-p_...         8   \n",
       "3            1  120901374_b469367a619da85b1f5ceb69b675d88e-p_f...         8   \n",
       "4            2  60134862_b1a48a3df3f111e005bb913873e98ce2-p_f.jpg         8   \n",
       "\n",
       "   median_zip  pr_sqft  \n",
       "0    289500.0    117.0  \n",
       "1    289500.0    167.0  \n",
       "2    289500.0    173.0  \n",
       "3    289500.0    143.0  \n",
       "4    289500.0    113.0  \n",
       "\n",
       "[5 rows x 50 columns]"
      ]
     },
     "execution_count": 3,
     "metadata": {},
     "output_type": "execute_result"
    }
   ],
   "source": [
    "df_ac.head()"
   ]
  },
  {
   "cell_type": "markdown",
   "id": "6d74ba45",
   "metadata": {},
   "source": [
    "## Pearson correlation analysis"
   ]
  },
  {
   "cell_type": "markdown",
   "id": "ebb3a4fb",
   "metadata": {},
   "source": [
    "As the above dataframes show, there are more than 40 features to consider in predicting\n",
    "property prices. With correlation analysis, as mentioned in 15.7.1 (2021), we can generate Pearson correlation coefficients to better determine numerically how each feature is related to those prices.\n",
    "To do this with dataframe columns, we will need corr(), which happens to generate Pearson correlation\n",
    "coefficients by default ('pandas.DataFrame.corr', 2021).\n",
    "\n",
    "Source: https://pandas.pydata.org/pandas-docs/stable/reference/api/pandas.DataFrame.corr.html"
   ]
  },
  {
   "cell_type": "markdown",
   "id": "ad7be48f",
   "metadata": {},
   "source": [
    "We should also note that this correlation analysis has been conducted elsewhere in the group repository, but only as a demonstration. We will be recreating this process here since it is key for our later regression analysis.\n",
    "Source: https://github.com/dianahandler/Final_Module20_Group3/commit/7c2f33ca7364dfbb40c21b7be7651fa2b5ad51de?branch=7c2f33ca7364dfbb40c21b7be7651fa2b5ad51de#diff-1c8bade9d6a619027f877dbf242cf157c76dbcd45194479d71bc5e565ffa1a09"
   ]
  },
  {
   "cell_type": "code",
   "execution_count": 13,
   "id": "15a23ab6",
   "metadata": {},
   "outputs": [
    {
     "data": {
      "text/plain": [
       "Index(['zpid', 'city', 'streetAddress', 'zipcode', 'description', 'latitude',\n",
       "       'longitude', 'propertyTaxRate', 'garageSpaces', 'hasAssociation',\n",
       "       'hasCooling', 'hasGarage', 'hasHeating', 'hasSpa', 'hasView',\n",
       "       'homeType', 'parkingSpaces', 'yearBuilt', 'latestPrice',\n",
       "       'numPriceChanges', 'latest_saledate', 'latest_salemonth',\n",
       "       'latest_saleyear', 'latestPriceSource', 'numOfPhotos', 'accessibility',\n",
       "       'numOfAppliances', 'numOfParkingFeatures', 'patioporch', 'security',\n",
       "       'waterfront', 'windowfeatures', 'community', 'lotSizeSqFt',\n",
       "       'livingAreaSqFt', 'numOfPrimarySchools', 'numOfElementarySchools',\n",
       "       'numOfMiddleSchools', 'numOfHighSchools', 'avgSchoolDistance',\n",
       "       'avgSchoolRating', 'avgSchoolSize', 'MedianStudentsPerTeacher',\n",
       "       'numOfBathrooms', 'numOfBedrooms', 'numOfStories', 'homeImage',\n",
       "       'zip_rank', 'median_zip', 'pr_sqft'],\n",
       "      dtype='object')"
      ]
     },
     "execution_count": 13,
     "metadata": {},
     "output_type": "execute_result"
    }
   ],
   "source": [
    "## Let's look at the column names for future reference.\n",
    "df_ac.columns"
   ]
  },
  {
   "cell_type": "code",
   "execution_count": 14,
   "id": "f70f8a17",
   "metadata": {},
   "outputs": [
    {
     "data": {
      "text/plain": [
       "zpid               0.010168\n",
       "zipcode           -0.238276\n",
       "latitude           0.085285\n",
       "longitude         -0.198968\n",
       "propertyTaxRate   -0.059908\n",
       "Name: latestPrice, dtype: float64"
      ]
     },
     "execution_count": 14,
     "metadata": {},
     "output_type": "execute_result"
    }
   ],
   "source": [
    "## For this project, 'latestPrice' is our output we want to predict. So for our corr() function,\n",
    "## we will only need to look at the 'latestPrice' column of the outputted correlation dataframe.\n",
    "correlations = df_ac.corr()['latestPrice']\n",
    "correlations.head()"
   ]
  },
  {
   "cell_type": "code",
   "execution_count": 19,
   "id": "4938e293",
   "metadata": {},
   "outputs": [
    {
     "data": {
      "text/plain": [
       "latestPrice                 1.000000\n",
       "median_zip                  0.730931\n",
       "zip_rank                    0.691525\n",
       "pr_sqft                     0.576027\n",
       "livingAreaSqFt              0.496778\n",
       "numOfBathrooms              0.412107\n",
       "avgSchoolRating             0.384555\n",
       "lotSizeSqFt                 0.296135\n",
       "MedianStudentsPerTeacher    0.285408\n",
       "numOfBedrooms               0.270606\n",
       "numOfStories                0.208965\n",
       "numOfPhotos                 0.160217\n",
       "garageSpaces                0.129184\n",
       "parkingSpaces               0.121176\n",
       "numOfParkingFeatures        0.111064\n",
       "numOfElementarySchools      0.105525\n",
       "hasView                     0.102876\n",
       "hasSpa                      0.102659\n",
       "hasGarage                   0.093460\n",
       "latitude                    0.085285\n",
       "numOfMiddleSchools          0.084401\n",
       "patioporch                  0.080889\n",
       "latest_saleyear             0.078021\n",
       "windowfeatures              0.075416\n",
       "avgSchoolSize               0.068801\n",
       "security                    0.054198\n",
       "numOfAppliances             0.041193\n",
       "latest_salemonth            0.040313\n",
       "accessibility               0.037509\n",
       "hasHeating                  0.028436\n",
       "waterfront                  0.026598\n",
       "hasCooling                  0.026318\n",
       "numPriceChanges             0.012694\n",
       "zpid                        0.010168\n",
       "community                  -0.005751\n",
       "propertyTaxRate            -0.059908\n",
       "yearBuilt                  -0.063956\n",
       "hasAssociation             -0.093080\n",
       "avgSchoolDistance          -0.096284\n",
       "numOfPrimarySchools        -0.141049\n",
       "longitude                  -0.198968\n",
       "numOfHighSchools           -0.207831\n",
       "zipcode                    -0.238276\n",
       "Name: latestPrice, dtype: float64"
      ]
     },
     "execution_count": 19,
     "metadata": {},
     "output_type": "execute_result"
    }
   ],
   "source": [
    "## Looking at this series of coefficients, we can sort them in descending order to evaluate them better.\n",
    "correlations.sort_values(ascending=False)"
   ]
  },
  {
   "cell_type": "markdown",
   "id": "d236a9bf",
   "metadata": {},
   "source": [
    "For Pearson correlation coefficients, we'll be looking for the absolute value"
   ]
  },
  {
   "cell_type": "code",
   "execution_count": null,
   "id": "5decf85e",
   "metadata": {},
   "outputs": [],
   "source": []
  },
  {
   "cell_type": "code",
   "execution_count": null,
   "id": "4c5498be",
   "metadata": {},
   "outputs": [],
   "source": []
  },
  {
   "cell_type": "code",
   "execution_count": null,
   "id": "b9dfb7ed",
   "metadata": {},
   "outputs": [],
   "source": []
  }
 ],
 "metadata": {
  "kernelspec": {
   "display_name": "mlenv",
   "language": "python",
   "name": "mlenv"
  },
  "language_info": {
   "codemirror_mode": {
    "name": "ipython",
    "version": 3
   },
   "file_extension": ".py",
   "mimetype": "text/x-python",
   "name": "python",
   "nbconvert_exporter": "python",
   "pygments_lexer": "ipython3",
   "version": "3.7.10"
  }
 },
 "nbformat": 4,
 "nbformat_minor": 5
}
